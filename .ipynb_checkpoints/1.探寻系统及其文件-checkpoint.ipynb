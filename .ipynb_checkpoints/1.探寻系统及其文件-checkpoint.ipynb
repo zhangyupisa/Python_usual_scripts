{
 "cells": [
  {
   "cell_type": "markdown",
   "metadata": {},
   "source": [
    "#魔法命令"
   ]
  },
  {
   "cell_type": "code",
   "execution_count": null,
   "metadata": {},
   "outputs": [],
   "source": [
    "%lsmagic  #查看可用的魔法命令，都以%或者%%开头，以%开头的成为行命令(line magics)，%%开头的称为单元命令(cell magics)"
   ]
  },
  {
   "cell_type": "code",
   "execution_count": null,
   "metadata": {},
   "outputs": [],
   "source": [
    "%ls #比如查看当前路径及基本信息"
   ]
  },
  {
   "cell_type": "markdown",
   "metadata": {},
   "source": [
    "%cd.. 改变当前工作路径"
   ]
  },
  {
   "cell_type": "code",
   "execution_count": null,
   "metadata": {},
   "outputs": [],
   "source": [
    "%pwd 返回当前工作目录的路径"
   ]
  },
  {
   "cell_type": "code",
   "execution_count": null,
   "metadata": {},
   "outputs": [],
   "source": [
    "#os 模块"
   ]
  },
  {
   "cell_type": "code",
   "execution_count": null,
   "metadata": {},
   "outputs": [],
   "source": [
    "import os"
   ]
  },
  {
   "cell_type": "code",
   "execution_count": null,
   "metadata": {},
   "outputs": [],
   "source": [
    "os.getcwd() #获取当前工作目录，即当前python脚本工作的目录路径"
   ]
  },
  {
   "cell_type": "markdown",
   "metadata": {},
   "source": [
    "os.chdir(“dirname”) #改变当前脚本工作目录；相当于shell下cd"
   ]
  },
  {
   "cell_type": "code",
   "execution_count": null,
   "metadata": {},
   "outputs": [],
   "source": [
    "os.curdir   #返回当前目录: (‘.’)"
   ]
  },
  {
   "cell_type": "code",
   "execution_count": null,
   "metadata": {},
   "outputs": [],
   "source": [
    "os.pardir   #获取当前目录的父目录字符串名：(‘..’)"
   ]
  },
  {
   "cell_type": "markdown",
   "metadata": {},
   "source": [
    "os.makedirs(‘dirname1/dirname2’)    #可生成多层递归目录\n",
    "os.removedirs(‘dirname1’)   #若目录为空，则删除，并递归到上一级目录，如若也为空，则删除，依此类推\n",
    "os.mkdir(‘dirname’) #新建文件夹\n",
    "os.rmdir(‘dirname’) #删除单级空目录，若目录不为空则无法删除，报错；相当于shell中rmdir dirname\n",
    "os.listdir(‘dirname’)   #列出指定目录下的所有文件和子目录，包括隐藏文件，并以列表方式打印\n",
    "os.remove() #删除一个文件\n",
    "os.rename(“oldname”,”newname”)  #重命名文件/目录\n",
    "os.stat(‘path/filename’)    获取文件/目录信息"
   ]
  },
  {
   "cell_type": "markdown",
   "metadata": {},
   "source": [
    "os.system(“bash command”)   #运行shell命令，直接显示"
   ]
  },
  {
   "cell_type": "markdown",
   "metadata": {},
   "source": [
    "os.environ  #获取系统环境变量"
   ]
  },
  {
   "cell_type": "markdown",
   "metadata": {},
   "source": [
    "os.path.abspath(path)   #返回path规范化的绝对路径\n",
    "os.path.split(path) #将path分割成目录和文件名二元组返回\n",
    "os.path.dirname(path)   #返回path的目录。其实就是os.path.split(path)的第一个元素\n",
    "os.path.basename(path)  #返回path最后的文件名。如何path以／或\\结尾，那么就会返回空值。即os.path.split(path)的第二个元素\n",
    "os.path.exists(path)    #如果path存在，返回True；如果path不存在，返回False\n",
    "os.path.isabs(path) #如果path是绝对路径，返回True\n",
    "os.path.isfile(path)    #如果path是一个存在的文件，返回True。否则返回False\n",
    "os.path.isdir(path) #如果path是一个存在的目录，则返回True。否则返回False\n",
    "os.path.join(path1[, path2[,…]])    #将多个路径组合后返回，第一个绝对路径之前的参数将被忽略\n",
    "os.path.getatime(path)  #返回path所指向的文件或者目录的最后存取时间\n",
    "os.path.getmtime(path)  #返回path所指向的文件或者目录的最后修改时间"
   ]
  }
 ],
 "metadata": {
  "kernelspec": {
   "display_name": "Python 3",
   "language": "python",
   "name": "python3"
  },
  "language_info": {
   "codemirror_mode": {
    "name": "ipython",
    "version": 3
   },
   "file_extension": ".py",
   "mimetype": "text/x-python",
   "name": "python",
   "nbconvert_exporter": "python",
   "pygments_lexer": "ipython3",
   "version": "3.7.9"
  },
  "widgets": {
   "application/vnd.jupyter.widget-state+json": {
    "state": {},
    "version_major": 2,
    "version_minor": 0
   }
  }
 },
 "nbformat": 4,
 "nbformat_minor": 4
}
